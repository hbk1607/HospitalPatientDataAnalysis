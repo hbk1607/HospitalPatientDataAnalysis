{
 "cells": [
  {
   "cell_type": "markdown",
   "id": "8d007ae8",
   "metadata": {},
   "source": [
    "# Hospital Patient Data Analysis"
   ]
  },
  {
   "cell_type": "markdown",
   "id": "9a1b8c21",
   "metadata": {},
   "source": [
    "1. Load and Explore the Data:\n",
    "\n",
    "-Load the patient data into a PySpark DataFrame.\n",
    "\n",
    "-Check for missing values, data types, and general statistics."
   ]
  },
  {
   "cell_type": "code",
   "execution_count": 6,
   "id": "64cbaea5",
   "metadata": {},
   "outputs": [],
   "source": [
    "patient_df=spark.read\\\n",
    ".format(\"csv\")\\\n",
    ".option(\"inferSchema\",\"true\")\\\n",
    ".option(\"header\",\"true\")\\\n",
    ".load(\"/public/trendytech/datasets/hospital.csv\")"
   ]
  },
  {
   "cell_type": "code",
   "execution_count": 110,
   "id": "ef1e74b5",
   "metadata": {},
   "outputs": [
    {
     "name": "stdout",
     "output_type": "stream",
     "text": [
      "+----------+--------------+--------------+-------------+---------+----------+\n",
      "|patient_id|admission_date|discharge_date|    diagnosis|doctor_id|total_cost|\n",
      "+----------+--------------+--------------+-------------+---------+----------+\n",
      "|         1|    01-01-2022|    2022-01-10|    Pneumonia|      101|    5000.0|\n",
      "|         2|    02-05-2022|    2022-02-09| Appendicitis|      102|    7000.0|\n",
      "|         3|    03-12-2022|    2022-03-18|Fractured Arm|      103|    3500.0|\n",
      "|         4|    04-02-2022|    2022-04-08| Heart Attack|      104|   15000.0|\n",
      "|         5|    05-05-2022|    2022-05-07|    Influenza|      105|    2500.0|\n",
      "|         6|    06-10-2022|    2022-06-15| Appendicitis|      106|    8000.0|\n",
      "|         7|    07-20-2022|    2022-07-25|    Pneumonia|      107|    5500.0|\n",
      "|         8|    08-25-2022|    2022-09-01| Heart Attack|      108|   20000.0|\n",
      "|         9|    09-15-2022|    2022-09-22|Fractured Leg|      109|    6000.0|\n",
      "|        10|    10-05-2022|    2022-10-10| Appendicitis|      110|    7500.0|\n",
      "|        11|    11-02-2022|    2022-11-05|    Influenza|      111|    2800.0|\n",
      "|        12|    12-10-2022|    2022-12-18|    Pneumonia|      112|    6000.0|\n",
      "|        13|    01-02-2023|    2023-01-09| Heart Attack|      113|   18000.0|\n",
      "|        14|    02-14-2023|    2023-02-18| Appendicitis|      114|    7200.0|\n",
      "|        15|    03-20-2023|    2023-03-28|Fractured Arm|      115|    3800.0|\n",
      "|        16|    04-05-2023|    2023-04-11|    Influenza|      116|    2700.0|\n",
      "|        17|    05-08-2023|    2023-05-11| Heart Attack|      117|   16000.0|\n",
      "|        18|    06-15-2023|    2023-06-20|    Pneumonia|      118|    4800.0|\n",
      "|        19|    07-22-2023|    2023-07-27|Fractured Leg|      119|    6500.0|\n",
      "|        20|    08-10-2023|    2023-08-16| Appendicitis|      120|    7800.0|\n",
      "+----------+--------------+--------------+-------------+---------+----------+\n",
      "only showing top 20 rows\n",
      "\n"
     ]
    }
   ],
   "source": [
    "patient_df.show()"
   ]
  },
  {
   "cell_type": "code",
   "execution_count": 56,
   "id": "88dd0b2e",
   "metadata": {},
   "outputs": [
    {
     "name": "stdout",
     "output_type": "stream",
     "text": [
      "root\n",
      " |-- patient_id: integer (nullable = true)\n",
      " |-- admission_date: string (nullable = true)\n",
      " |-- discharge_date: string (nullable = true)\n",
      " |-- diagnosis: string (nullable = true)\n",
      " |-- doctor_id: integer (nullable = true)\n",
      " |-- total_cost: double (nullable = true)\n",
      "\n"
     ]
    }
   ],
   "source": [
    "patient_df.printSchema()"
   ]
  },
  {
   "cell_type": "code",
   "execution_count": 57,
   "id": "e848a37a",
   "metadata": {},
   "outputs": [
    {
     "name": "stdout",
     "output_type": "stream",
     "text": [
      "+-------+-----------------+--------------+--------------+------------+-----------------+----------------+\n",
      "|summary|       patient_id|admission_date|discharge_date|   diagnosis|        doctor_id|      total_cost|\n",
      "+-------+-----------------+--------------+--------------+------------+-----------------+----------------+\n",
      "|  count|               25|            25|            25|          25|               25|              25|\n",
      "|   mean|             13.0|          null|          null|        null|            113.0|          7680.0|\n",
      "| stddev|7.359800721939872|          null|          null|        null|7.359800721939872|5614.26753904728|\n",
      "|    min|                1|    01-01-2022|    2022-01-10|Appendicitis|              101|          2500.0|\n",
      "|    max|               25|    12-10-2022|    2024-01-15|   Pneumonia|              125|         21000.0|\n",
      "+-------+-----------------+--------------+--------------+------------+-----------------+----------------+\n",
      "\n"
     ]
    }
   ],
   "source": [
    "patient_df.describe().show()"
   ]
  },
  {
   "cell_type": "markdown",
   "id": "749b5ea0",
   "metadata": {},
   "source": [
    "2.Common Diagnoses and Associated Costs:\n",
    "\n",
    "-Identify the most common diagnoses.\n",
    "\n",
    "-Calculate the total cost for each diagnosis."
   ]
  },
  {
   "cell_type": "code",
   "execution_count": 58,
   "id": "8c9f8da8",
   "metadata": {},
   "outputs": [],
   "source": [
    "from pyspark.sql.functions import *"
   ]
  },
  {
   "cell_type": "code",
   "execution_count": 59,
   "id": "d0416edb",
   "metadata": {},
   "outputs": [],
   "source": [
    "common_diagnoses_df = patient_df.groupBy(\"diagnosis\").agg(\n",
    "    col(\"diagnosis\"),\n",
    "    (count(col(\"patient_id\")).alias(\"num_patients\")),\n",
    "    (sum(col(\"total_cost\")).alias(\"total_cost\"))\n",
    ").orderBy(col(\"num_patients\").desc())"
   ]
  },
  {
   "cell_type": "code",
   "execution_count": 60,
   "id": "a1ccaed7",
   "metadata": {},
   "outputs": [
    {
     "name": "stdout",
     "output_type": "stream",
     "text": [
      "+-------------+-------------+------------+----------+\n",
      "|    diagnosis|    diagnosis|num_patients|total_cost|\n",
      "+-------------+-------------+------------+----------+\n",
      "| Heart Attack| Heart Attack|           5|   90000.0|\n",
      "| Appendicitis| Appendicitis|           5|   37500.0|\n",
      "|    Influenza|    Influenza|           5|   14100.0|\n",
      "|    Pneumonia|    Pneumonia|           5|   26500.0|\n",
      "|Fractured Arm|Fractured Arm|           3|   11400.0|\n",
      "|Fractured Leg|Fractured Leg|           2|   12500.0|\n",
      "+-------------+-------------+------------+----------+\n",
      "\n"
     ]
    }
   ],
   "source": [
    "common_diagnoses_df.show()"
   ]
  },
  {
   "cell_type": "markdown",
   "id": "f6f6c89d",
   "metadata": {},
   "source": [
    "3. Relationship Between Diagnoses and Total Costs:\n",
    "    \n",
    "-Examine the relationship between different diagnoses and their associated costs."
   ]
  },
  {
   "cell_type": "code",
   "execution_count": 61,
   "id": "be2ec18b",
   "metadata": {},
   "outputs": [
    {
     "name": "stdout",
     "output_type": "stream",
     "text": [
      "+-------------+--------+\n",
      "|    diagnosis|avg_cost|\n",
      "+-------------+--------+\n",
      "| Heart Attack| 18000.0|\n",
      "|Fractured Arm|  3800.0|\n",
      "|Fractured Leg|  6250.0|\n",
      "| Appendicitis|  7500.0|\n",
      "|    Influenza|  2820.0|\n",
      "|    Pneumonia|  5300.0|\n",
      "+-------------+--------+\n",
      "\n"
     ]
    }
   ],
   "source": [
    "diagnosis_cost_relation_df = patient_df.groupBy(\"diagnosis\").agg(F.avg(\"total_cost\").alias(\"avg_cost\"))\n",
    "diagnosis_cost_relation_df.show()\n"
   ]
  },
  {
   "cell_type": "markdown",
   "id": "931bb02d",
   "metadata": {},
   "source": [
    "4. Performance of Doctors Based on Total Costs:\n",
    "\n",
    "Analyze the average total cost of treatments for each doctor."
   ]
  },
  {
   "cell_type": "code",
   "execution_count": 62,
   "id": "8f5465ec",
   "metadata": {},
   "outputs": [
    {
     "name": "stdout",
     "output_type": "stream",
     "text": [
      "+---------+--------------+\n",
      "|doctor_id|avg_total_cost|\n",
      "+---------+--------------+\n",
      "|      108|       20000.0|\n",
      "|      101|        5000.0|\n",
      "|      115|        3800.0|\n",
      "|      103|        3500.0|\n",
      "|      122|       21000.0|\n",
      "|      111|        2800.0|\n",
      "|      120|        7800.0|\n",
      "|      117|       16000.0|\n",
      "|      112|        6000.0|\n",
      "|      107|        5500.0|\n",
      "|      114|        7200.0|\n",
      "|      102|        7000.0|\n",
      "|      113|       18000.0|\n",
      "|      121|        2900.0|\n",
      "|      125|        3200.0|\n",
      "|      109|        6000.0|\n",
      "|      105|        2500.0|\n",
      "|      110|        7500.0|\n",
      "|      106|        8000.0|\n",
      "|      116|        2700.0|\n",
      "+---------+--------------+\n",
      "only showing top 20 rows\n",
      "\n"
     ]
    }
   ],
   "source": [
    "doctor_performance_df = patient_df.groupBy(\"doctor_id\").agg(F.avg(\"total_cost\").alias(\"avg_total_cost\"))\n",
    "doctor_performance_df.show()\n"
   ]
  },
  {
   "cell_type": "markdown",
   "id": "65a9ab81",
   "metadata": {},
   "source": [
    "5. Most Expensive Diagnoses:\n",
    "\n",
    "    -Identify the diagnoses with the highest average total cost."
   ]
  },
  {
   "cell_type": "code",
   "execution_count": 89,
   "id": "9a8c5977",
   "metadata": {},
   "outputs": [],
   "source": [
    "expensive_diagnoses_df = patient_df.groupBy(\"diagnosis\").agg(\n",
    "    F.count(\"patient_id\").alias(\"num_patients\"),\n",
    "    F.avg(\"total_cost\").alias(\"avg_total_cost\")\n",
    ").filter(\"num_patients >= 5\").orderBy(F.desc(\"avg_total_cost\")).limit(10)"
   ]
  },
  {
   "cell_type": "code",
   "execution_count": 71,
   "id": "2513f8cb",
   "metadata": {},
   "outputs": [
    {
     "name": "stdout",
     "output_type": "stream",
     "text": [
      "+------------+------------+--------------+\n",
      "|   diagnosis|num_patients|avg_total_cost|\n",
      "+------------+------------+--------------+\n",
      "|Heart Attack|           5|       18000.0|\n",
      "|Appendicitis|           5|        7500.0|\n",
      "|   Pneumonia|           5|        5300.0|\n",
      "|   Influenza|           5|        2820.0|\n",
      "+------------+------------+--------------+\n",
      "\n"
     ]
    }
   ],
   "source": [
    "expensive_diagnoses_df.show()"
   ]
  },
  {
   "cell_type": "markdown",
   "id": "a594cd81",
   "metadata": {},
   "source": [
    " 6. Doctor Specialization Analysis:\n",
    "        \n",
    "-Explore the distribution of diagnoses treated by each doctor.\n",
    "\n",
    "-Identify doctors specializing in specific diagnoses."
   ]
  },
  {
   "cell_type": "code",
   "execution_count": 90,
   "id": "164c66e8",
   "metadata": {},
   "outputs": [],
   "source": [
    "from pyspark.sql.window import Window"
   ]
  },
  {
   "cell_type": "code",
   "execution_count": 91,
   "id": "76dc0320",
   "metadata": {},
   "outputs": [],
   "source": [
    "# The distribution of diagnoses treated by each doctor\n",
    "doctor_specialization_df = patient_df.groupBy(\"doctor_id\", \"diagnosis\").agg(\n",
    "    F.count(\"patient_id\").alias(\"num_patients\")\n",
    ").orderBy(\"doctor_id\", F.desc(\"num_patients\"))"
   ]
  },
  {
   "cell_type": "code",
   "execution_count": 92,
   "id": "35e092dc",
   "metadata": {},
   "outputs": [],
   "source": [
    "specialized_doctors_df = doctor_specialization_df.withColumn(\n",
    "    \"rank\",\n",
    "    F.row_number().over(Window.partitionBy(\"doctor_id\").orderBy(F.desc(\"num_patients\")))\n",
    ").filter(\"rank = 1\").select(\"doctor_id\", \"diagnosis\", \"num_patients\")"
   ]
  },
  {
   "cell_type": "code",
   "execution_count": 93,
   "id": "2d27500b",
   "metadata": {},
   "outputs": [
    {
     "name": "stdout",
     "output_type": "stream",
     "text": [
      "+---------+-------------+------------+\n",
      "|doctor_id|    diagnosis|num_patients|\n",
      "+---------+-------------+------------+\n",
      "|      108| Heart Attack|           1|\n",
      "|      101|    Pneumonia|           1|\n",
      "|      115|Fractured Arm|           1|\n",
      "|      103|Fractured Arm|           1|\n",
      "|      122| Heart Attack|           1|\n",
      "|      111|    Influenza|           1|\n",
      "|      120| Appendicitis|           1|\n",
      "|      117| Heart Attack|           1|\n",
      "|      112|    Pneumonia|           1|\n",
      "|      107|    Pneumonia|           1|\n",
      "|      114| Appendicitis|           1|\n",
      "|      102| Appendicitis|           1|\n",
      "|      113| Heart Attack|           1|\n",
      "|      121|    Influenza|           1|\n",
      "|      125|    Influenza|           1|\n",
      "|      109|Fractured Leg|           1|\n",
      "|      105|    Influenza|           1|\n",
      "|      110| Appendicitis|           1|\n",
      "|      106| Appendicitis|           1|\n",
      "|      116|    Influenza|           1|\n",
      "+---------+-------------+------------+\n",
      "only showing top 20 rows\n",
      "\n"
     ]
    }
   ],
   "source": [
    "specialized_doctors_df.show()"
   ]
  },
  {
   "cell_type": "markdown",
   "id": "22567c73",
   "metadata": {},
   "source": [
    "7. Costliest Diagnoses by Doctor:\n",
    "    \n",
    "Identify the costliest diagnoses for each doctor."
   ]
  },
  {
   "cell_type": "code",
   "execution_count": 101,
   "id": "4c2b1d0c",
   "metadata": {},
   "outputs": [],
   "source": [
    "# Identify the costliest diagnoses for each doctor\n",
    "costliest_diagnoses_df = patient_df.groupBy(\"doctor_id\", \"diagnosis\").agg(\n",
    "    F.sum(\"total_cost\").alias(\"total_cost\")\n",
    ").orderBy(\"doctor_id\", F.desc(\"total_cost\"))"
   ]
  },
  {
   "cell_type": "code",
   "execution_count": 102,
   "id": "0fb66c7c",
   "metadata": {},
   "outputs": [
    {
     "name": "stdout",
     "output_type": "stream",
     "text": [
      "+---------+-------------+----------+\n",
      "|doctor_id|    diagnosis|total_cost|\n",
      "+---------+-------------+----------+\n",
      "|      101|    Pneumonia|    5000.0|\n",
      "|      102| Appendicitis|    7000.0|\n",
      "|      103|Fractured Arm|    3500.0|\n",
      "|      104| Heart Attack|   15000.0|\n",
      "|      105|    Influenza|    2500.0|\n",
      "|      106| Appendicitis|    8000.0|\n",
      "|      107|    Pneumonia|    5500.0|\n",
      "|      108| Heart Attack|   20000.0|\n",
      "|      109|Fractured Leg|    6000.0|\n",
      "|      110| Appendicitis|    7500.0|\n",
      "|      111|    Influenza|    2800.0|\n",
      "|      112|    Pneumonia|    6000.0|\n",
      "|      113| Heart Attack|   18000.0|\n",
      "|      114| Appendicitis|    7200.0|\n",
      "|      115|Fractured Arm|    3800.0|\n",
      "|      116|    Influenza|    2700.0|\n",
      "|      117| Heart Attack|   16000.0|\n",
      "|      118|    Pneumonia|    4800.0|\n",
      "|      119|Fractured Leg|    6500.0|\n",
      "|      120| Appendicitis|    7800.0|\n",
      "+---------+-------------+----------+\n",
      "only showing top 20 rows\n",
      "\n"
     ]
    }
   ],
   "source": [
    "costliest_diagnoses_df.show()"
   ]
  },
  {
   "cell_type": "markdown",
   "id": "eaab75b9",
   "metadata": {},
   "source": [
    "8. Patients with High Total Costs:\n",
    "\n",
    "Identify patients with a total treatment cost above a certain threshold."
   ]
  },
  {
   "cell_type": "code",
   "execution_count": 116,
   "id": "110c9708",
   "metadata": {},
   "outputs": [],
   "source": [
    "high_cost_patients_df = patient_df.filter(\"total_cost > 10000\")"
   ]
  },
  {
   "cell_type": "code",
   "execution_count": 117,
   "id": "63a1eefe",
   "metadata": {},
   "outputs": [
    {
     "name": "stdout",
     "output_type": "stream",
     "text": [
      "+----------+--------------+--------------+------------+---------+----------+\n",
      "|patient_id|admission_date|discharge_date|   diagnosis|doctor_id|total_cost|\n",
      "+----------+--------------+--------------+------------+---------+----------+\n",
      "|         4|    04-02-2022|    2022-04-08|Heart Attack|      104|   15000.0|\n",
      "|         8|    08-25-2022|    2022-09-01|Heart Attack|      108|   20000.0|\n",
      "|        13|    01-02-2023|    2023-01-09|Heart Attack|      113|   18000.0|\n",
      "|        17|    05-08-2023|    2023-05-11|Heart Attack|      117|   16000.0|\n",
      "|        22|    10-12-2023|    2023-10-19|Heart Attack|      122|   21000.0|\n",
      "+----------+--------------+--------------+------------+---------+----------+\n",
      "\n"
     ]
    }
   ],
   "source": [
    "high_cost_patients_df.show()"
   ]
  },
  {
   "cell_type": "markdown",
   "id": "d148363a",
   "metadata": {},
   "source": [
    "9. Total Cost by Diagnosis Bar Chart:\n",
    "\n",
    "Business Case: Identify and prioritize medical conditions impacting overall costs by visualizing the total cost distribution across different diagnoses, enabling targeted resource allocation and cost management strategies."
   ]
  },
  {
   "cell_type": "code",
   "execution_count": 11,
   "id": "326ad573",
   "metadata": {},
   "outputs": [
    {
     "data": {
      "image/png": "[encoded data removed]",
      "text/plain": [
       "<Figure size 720x432 with 1 Axes>"
      ]
     },
     "metadata": {
      "needs_background": "light"
     },
     "output_type": "display_data"
    }
   ],
   "source": [
    "import matplotlib.pyplot as plt\n",
    "import seaborn as sns\n",
    "from pyspark.sql import functions as F\n",
    "\n",
    "# Aggregating total cost by diagnosis\n",
    "cost_by_diagnosis = patient_df.groupBy(\"diagnosis\").agg(F.sum(\"total_cost\").alias(\"total_cost\"))\n",
    "\n",
    "# Converting PySpark DataFrame to Pandas DataFrame for visualization\n",
    "pandas_df = cost_by_diagnosis.toPandas()\n",
    "\n",
    "# Bar chart\n",
    "plt.figure(figsize=(10, 6))\n",
    "sns.barplot(x=\"total_cost\", y=\"diagnosis\", data=pandas_df, palette=\"viridis\")\n",
    "plt.title(\"Total Cost by Diagnosis\")\n",
    "plt.xlabel(\"Total Cost\")\n",
    "plt.ylabel(\"Diagnosis\")\n",
    "plt.show()\n"
   ]
  },
  {
   "cell_type": "markdown",
   "id": "c931cdfe",
   "metadata": {},
   "source": [
    "10. Distribution of Diagnosis Pie Chart\n",
    "\n",
    "Business Case: Gain insights into the prevalence of various diagnoses, facilitating resource planning, and focusing healthcare efforts on prevalent medical conditions for improved patient care and operational efficiency."
   ]
  },
  {
   "cell_type": "code",
   "execution_count": 10,
   "id": "bbcc6b12",
   "metadata": {},
   "outputs": [
    {
     "data": {
      "image/png": "[encoded data removed]",
      "text/plain": [
       "<Figure size 576x576 with 1 Axes>"
      ]
     },
     "metadata": {},
     "output_type": "display_data"
    }
   ],
   "source": [
    "# Counting occurrences of each diagnosis\n",
    "diagnosis_counts = patient_df.groupBy(\"diagnosis\").count()\n",
    "\n",
    "# Converting PySpark DataFrame to Pandas DataFrame for visualization\n",
    "pandas_counts = diagnosis_counts.toPandas()\n",
    "\n",
    "# Pie chart\n",
    "plt.figure(figsize=(8, 8))\n",
    "plt.pie(pandas_counts[\"count\"], labels=pandas_counts[\"diagnosis\"], autopct=\"%1.1f%%\", startangle=140)\n",
    "plt.title(\"Distribution of Diagnoses\")\n",
    "plt.show()\n"
   ]
  }
 ],
 "metadata": {
  "kernelspec": {
   "display_name": "Pyspark 3",
   "language": "python",
   "name": "pyspark3"
  },
  "language_info": {
   "codemirror_mode": {
    "name": "ipython",
    "version": 3
   },
   "file_extension": ".py",
   "mimetype": "text/x-python",
   "name": "python",
   "nbconvert_exporter": "python",
   "pygments_lexer": "ipython3",
   "version": "3.6.12"
  }
 },
 "nbformat": 4,
 "nbformat_minor": 5
}
